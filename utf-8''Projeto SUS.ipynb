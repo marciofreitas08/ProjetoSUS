{
  "cells": [
    {
      "metadata": {},
      "cell_type": "markdown",
      "source": "\n# Fase 1 Modelagem do Problema\nTivemos duas ideias iniciais de dois grandes problemas que atingem a população brasileira hoje em dia, o primeiro se trata da falta de infraestrutura nas estradas, causando acidentes e consequentemente mortes em alguns casos. O segundo se trata de um problema que todos nós já vivenciamos que é a ineficiência do Sistema Único de Saúde, que acaba deixando a população vítima dos graves problemas existentes. Ao analizarmos, entramos em consenso em fazer nosso projeto baseado no SUS, pois já tivemos experiências negativas quando foi preciso recorrer a ele. Assim, buscamos tentar através desse projeto diminuir esse problema tão recorrente na vida dos brasileiros.\n\nDepois de decidirmos sobre o tema do projeto, agora vamos desenvolver mais sobre o assunto através de pesquisas, visitas a locais para ver e ouvir o que as pessoas têm a dizer sobre o atendimento no SUS atualmente.\n\nSaúde Pública No Brasil\nhttps://youtu.be/z-rJaGOlksI\n\nPara começar vamos entender melhor o que é a saúde pública no brasil e como foi seu desenvolvimento ao longo do tempo. A saúde pública é aquela voltada para as ações de manutenção da saúde da população, garantindo um tratamento adequado e a prevenção de doenças.\n\nNo Brasil, a saúde pública é regulamentada pela ação do Estado, através do Ministério da Saúde e demais secretarias estaduais e municipais. O objetivo básico da saúde pública é garantir que toda a população tenha acesso ao atendimento médico de qualidade.\n\nA saúde na época da Colonização e Império\nsaudebrasilcolonial-0-cke.jpg\n\nNo Brasil colonial, eram os curandeiros e barbeiros que proporcionavam atendimento de saúde aos menos favorecidos\n\nDurante o período da colonização e império do Brasil não existiam políticas públicas voltadas para a saúde. No início da colonização, muitos indígenas morreram em virtude das \"doenças do homem branco\", aquelas trazidas pelos europeus e para as quais a população indígena não tinha resistência.\n\nO acesso a saúde era determinado pela classe social do indivíduo. Os nobres tinham fácil acesso aos médicos, enquanto os pobres, escravos e indígenas não recebiam nenhum tipo de atenção médica. Essa parte da população era dependente de, caridade e crenças.\n\nUma das formas de conseguir atendimento era através de centros médicos ligados as instituições religiosas, como as Santas Casas de Misericórdia. Esses espaços eram mantidos por meio de doações da comunidade e por muito tempo representam a única opção para as pessoas sem condições financeiras. O ano de 1808 marca a chegada da família real ao Brasil e também da criação dos primeiros cursos de Medicina. Assim, foram formados os primeiros médicos brasileiros, os quais lentamente começaram a substituir os médicos estrangeiros.\n\nA saúde pública após a Independência do Brasil\nApós a Independência do Brasil, em 1822, D. Pedro II determinou a criação de órgãos para inspecionar a saúde pública, como forma de evitar epidemias e melhorar a qualidade de vida da população. Também foram adotadas medidas voltadas para o saneamento básico\n\nNo final do século XIX e início do XX, a cidade do Rio de Janeiro contou com diversas ações de saneamento básico e campanha de vacinação contra a varíola.\n\nAinda nessa época, o esgoto corria a céu aberto e o lixo não tinha o destino adequado, assim, a população estava sujeita a uma série de doenças.\n\nCriação do Sistema Único de Saúde (SUS)\nO Ministério da Saúde foi criado em 1953, foi quando também iniciaram-se as primeiras conferências sobre saúde pública no Brasil. Daí, surgiu a ideia de criação de um sistema único de saúde, que pudesse atender toda a população. Porém, com a ditadura militar, a saúde sofreu cortes orçamentários e muitas doenças voltaram a se intensificar.\n\nEm 1970, apenas 1% do orçamento da União era destinado para a saúde. Ao mesmo tempo, surgia o Movimento Sanitarista, formado por profissionais da saúde, intelectuais e partidos políticos. Eles discutiam as mudanças necessárias para a saúde pública no Brasil.\n\nUma das conquistas do grupo foi a realização da 8ª Conferência Nacional da Saúde, em 1986. O documento criado ao final do evento era um esboço para a criação do Sistema Nacional de Saúde - SUS.\n\nsaudepublica8conferencianacionalabrasco.jpg\n\nA 8ª Conferência Nacional da Saúde foi um marco para a história da Saúde Pública no Brasil\n\nA constituição de 1988 traz a saúde como um direito do cidadão e um dever do Estado. Outra importante conquista foi que o sistema de saúde público deve ser gratuito, de qualidade e acessível a todos os brasileiros e/ou residentes no Brasil.\n\nA Lei Federal 8.080 de 1990 regulamenta o Sistema Único de Saúde. De acordo com a legislação, os objetivos do SUS são: • Identificar e divulgar os condicionantes e determinantes da saúde; • Formular a política de saúde para promover os campos econômico e social, para diminuir o risco de agravos à saúde; • Fazer ações de saúde de promoção, proteção e recuperação integrando ações assistenciais e preventivas.\n\nFonte:https://www.todamateria.com.br/saude-publica-no-brasil/\nA situação atual da Saúde Pública no Brasil\nhttps://youtu.be/jkVyPfq_9w8\n\nPodemos ver com esses acontecimentos no passado que a saúde pública no brasil passou por vários desafios ao longo dos anos, vamos ver como está hoje em dia e se estão cumprindo o que estabelece a nossa constituição. O Sistema Único de Saúde (SUS) foi uma grande conquista da população brasileira, sendo reconhecido como um dos maiores do mundo e usado como modelo em muitos outros países.\n\nEntretanto, a saúde pública no Brasil sofre desafios do mau gerenciamento e de falta de investimentos financeiros. Como resultado, temos um sistema em colapso, na maioria das vezes insuficiente e com pouca qualidade para atender a população. As pessoas que precisam de atendimento médico muitas vezes sofrem com a demora ou desistem do atendimento e voltam para casa. Em muitos hospitais, é comum ver pessoas sendo atendidas em corredores, longas filas de espera e/ou precárias condições de estrutura e higiene.\n\nOs principais desafios da saúde pública no Brasil são:\n1- Falta de médicos: considerado um dos principais problemas do SUS, segundo destacou o presidente do TCU, ministro Raimundo Carreiro. De acordo com a OMS (Organização Mundial de Saúde), há 17,6 médicos para cada 10 mil brasileiros, bem menos que na Europa, cuja taxa é de 33,3.\n\n2- Demora para marcar consulta: o SUS realiza bem menos consultas do que poderia. Segundo o Fisc Saúde 2016, o Brasil apresentou uma média de 2,8 consultas por habitantes em 2018, o 27º índice entre 30 países. A taxa muito inferior ao dos países mais bem colocados: Coreia do Sul (14,3), Japão (12,9) e Hungria (11,8).\n\n3- Falta de leitos: nos três primeiros meses de 2018, a falta de leitos foi o 8º principal motivo de reclamação dos brasileiros no Reclame Aqui. Dados da Associação Nacional de Hospitais Privados indicam que o Brasil tem 2,3 leitos por mil habitantes, abaixo do recomendado pela OMS (entre 3 e 5). O déficit de leitos em UTI neonatal é de 3,3 mil, segundo pesquisa deste ano da Sociedade Brasileira de Pediatria (SBP). Além disso, o país tem, em média, 2,9 leitos por mil nascidos vivos, abaixo dos 4 leitos recomendados pela entidade. No SUS, a taxa é de 1,5.\n\n4- Atendimento na emergência: a espera por atendimento foi o tema considerado de \"pior qualidade\" em uma pesquisa da CNI (Confederação Nacional da Indústria) sobre avaliação de serviços. Nos estudos do Ipea sobre os serviços prestados pelo SUS, o tema recebeu as maiores qualificações negativas: 31,1% (postos de saúde) e 31,4% (urgência ou emergência).\n\n5- Discriminação no atendimento: 10,6% da população brasileira adulta (15,5 milhões de pessoas) já se sentiram discriminadas na rede de saúde tanto pública quanto privada, é o que aponta a Pesquisa Nacional de Saúde, do IBGE. A maioria (53,9%) disse ter sido maltratada por \"falta de dinheiro\" e 52,5% em razão da \"classe social\". Pouco mais de 13% foram vítimas de preconceito racial, 8,1% por religião ou crença e 1,7% por homofobia. No entanto, o percentual poderia ser maior se parte da população LGBT (Lésbicas, Gays, Bissexuais, Travestis, Transexuais e Transgêneros) não deixasse de buscar auxílio médico por medo de discriminação, revela uma pesquisa da UFSC (Universidade Federal de Santa Catarina).\n\n6- Falta de recursos para a saúde: apenas 3,6% do orçamento do governo federal foi destinado à saúde em 2018. A média mundial é de 11,7%, segundo a OMS. Essa taxa é menor do que a média no continente africano (9,9%), nas Américas (13,6%) e na Europa (13,2). Na Suíça, essa proporção é de 22%. Aliado a isso, muitos hospitais e centros de pesquisas estão ameaçados de encerrar suas atividades por conta da falta de investimentos e mão de obra.\n\nComo forma de ter acesso ao atendimento médico, muitas pessoas recorrem a saúde suplementar, ou seja, aos planos de saúde privados. Porém, os preços praticados são altos, o que faz com que 75% da população dependa apenas do SUS. Uma pesquisa realizada e divulgada em 2018, pelo Conselho Federal de Medicina (CFM), demonstrou que 89% da população brasileira classifica a saúde pública ou privada como péssima, ruim ou regular.\n\nFonte:\nEsses dados são do IPS (Sistema de Indicadores de Percepção Social), do Ipea (Instituto de Pesquisa Econômica Aplicada), o Fisc Saúde 2016, do TCU (Tribunal de Contas da União), o PNS (Pesquisa Nacional de Saúde), do IBGE, e um ranking encomendado ao Reclame Aqui, um órgão de defesa do consumidor avalizado pela Ouvidora-Geral da União, e outro formulado pela ANS (Agência Nacional de Saúde).\n\nSaúde pública e doenças\nAtualmente, os principais problemas de saúde pública no Brasil são a hipertensão, diabetes e obesidade. Essas doenças atingem grande parte da população e necessitam de uma estrutura adequada dentro do SUS para garantir um atendimento de qualidade para todos. O resultado da falta de investimentos na saúde reflete no retorno de doenças consideradas erradicadas ou controladas há muito tempo. Por exemplo, em 2018, o Brasil viveu um surto de casos de sarampo. O mesmo também aconteceu com a febre amarela, em 2017. A saúde pública também envolve a divulgação de campanhas de vacinação e divulgação sobre formas de prevenção de doenças.\n\nSaúde Pública no Espirito Santo\nhttps://youtu.be/YFpK8WinH1I\n\nAgora que já conhecemos como foi desenvolvido o SUS e como este seu funcionamento no Brasil em geral, vamos trazer essa situação para mais perto de nós e vermos como está a Saúde pública aqui no nosso estado, e quais são os desafios que teremos pela frente.\n\nA falta de atendimento médico, superlotação e infraestrutura dos Pronto Atendimentos e hospitais do Espírito Santo, são reclamações recorrentes dos usuários do serviço público de saúde. Desde o início do ano, uma série de episódios envolvendo o caos no atendimento foram registrados em unidades da Grande Vitória.\n\nEm resposta aos recentes problemas de superlotação de prontos atendimentos na Grande Vitória, o secretário de Saúde do Espírito Santo, admitiu o colapso na saúde pública e afirmou que os modelos dos municípios capixabas são ultrapassado e é preciso modernizar as estruturas para atender melhor a população. Para resolver isso, ele revelou que será lançado um plano de reestruturação da saúde pública do estado.\n\nO Pronto Atendimento de Serra Sede, por exemplo, quase sempre está lotado. Uma criança esperou cerca de oito horas por atendimento médico. Por causa da demora e falta de informação, pais se desesperam.\n\n\"É um sistema que não consegue responder a sazonalidade. Se falta um médico na Serra, por exemplo, sobrecarrega todo sistema de urgência e emergência da Grande Vitória\", explica.\n\nO Pronto Atendimento de Serra Sede, por exemplo, quase sempre está lotado. Uma criança esperou cerca de oito horas por atendimento médico. Por causa da demora e falta de informação, pais se desesperam.\n\nUnidade de Pronto Atendimento De Carapina – Serra/ES\nFoi realizada no dia 05/05/2019 uma visita até a UPA de Carapina para ver de perto como está o funcionamento dessa unidade, que é muito importante para o município da Serra, pois fica próximo ao terminal de ônibus, o que facilita a chegada de pacientes de bairros mais carentes.\n\nPodemos ver que tem uma estrutura muito boa, duas recepções um para ala infantil e outra para os adultos. Segundo a recepcionista, a UPA tem consultórios de clínica médica, pediatria e odontologia, e exames de imagem (raio-x). Salas de medicação, nebulização, e uma \"sala de emergência\", para estabilizar os pacientes mais graves até serem transferidos a um hospital. A UPA também está preparada para realizar pequenas suturas.\n\nPara realizar o atendimento, primeiro é feito um cadastro do paciente na recepção, o mesmo deverá apresentar seu documento pessoal com foto e o cartão do SUS. Feito o cadastro, será dado uma senha ao paciente para que ele passe por uma triagem feita pela enfermeira responsável que através de um sistema de “Classificação de Risco” lhe dará uma pulseira para identificar seu grau de risco, ordenando assim os atendimentos.\n\nClassificação de risco:\nrisco.jpg\n\nRECLAMAÇÕES E PONTOS NEGATIVOS\nEm conversa com algumas pessoas que estavam esperando atendimento, alguns pontos negativos foram notados. Alguns exemplos são: ar condicionado da recepção quebrado, a limpeza do local deixou a desejar, um dos banheiros femininos estava interditado e tinha apenas uma pessoa para fazer o atendimento em cada recepção o que atrasava um pouco, principalmente pelo fato de ter que fazer cadastro. Segundo relatos, estava demorando por volta de 1 a 2 horas para passar pela triagem, além do fato de haver somente um médico realizando atendimento naquele horário.\n\nPONTOS POSITIVOS\nFácil acesso da população (próximo ao terminal de ônibus), estrutura muito boa, banheiros, bebedores de água, estacionamento para pacientes que vem em veículo próprio, profissionais da recepção prestam atendimento de forma muito atenciosa e educada.\n\nIMG_1234.jpg\n\n## Fase 2 Escopo do Problema\nhttp://g1.globo.com/espirito-santo/estv-1edicao/videos/v/pacientes-sofrem-para-conseguir-marcar-exames-e-consultas-no-sus-no-es/6593788/4\n\nAnalisando os vários problemas que mencionamos no SUS, escolhemos implementrar um projeto usando algoritmo para tentar amenizar a Demora para marcar consulta. O SUS realiza bem menos consultas do que poderia. Segundo o Fisc Saúde 2016, o Brasil apresentou uma média de 2,8 consultas por habitantes em 2018, o 27º índice entre 30 países. A taxa muito inferior ao dos países mais bem colocados: Coreia do Sul (14,3), Japão (12,9) e Hungria (11,8). a dificuldade pra se conseguir marcar um exame ou consulta é o que mais chama atenção. Através desse projeto vamos buscar implementar um algoritimo onde o paciente possa ter acesso online e ver a disponibilidade de horário, médico, especialidade e local, e poder ele proprio fazer sua marcação, atravez de um cadastro.\n\nProblemas enfrentados pelos moradores da Serra\nOs moradores do bairro Serra Dourada II e arredores, na Serra, vêm enfrentando dificuldades na marcação de consultas médicas e exames por conta do Sistema de Cadastro de Especialidades da Policlínica que está fora do ar. Há cerca de 20 dias, os pacientes que aguardam atendimento com especialistas recebem a mesma resposta dos funcionários da Unidade Regional de Saúde: “O sistema está fora do ar, volte outro dia”.\n\nA dona de casa Carmem Conceição precisa marcar um psiquiatra com urgência e não consegue. “Hoje eu vim marcar um especialista, o psiquiatra pediu para eu retornar daqui a 60 dias e quando chego aqui, o sistema está fora do ar e não consigo marcar a consulta. Eu também preciso do resultado de um exame especifico, porque tenho uma consulta no dia 02 de outubro para mostrar e a funcionário me fala que não tem nem previsão de quando o sistema volta”. A Prefeitura da Serra foi procurada pela equipe do ESHOJE e informou, por nota, que “para solicitar consulta com especialista é utilizado um sistema fornecido pelo Ministério da Saúde. Este sistema é único para todo o país e vem apresentando problemas de inconstância e de continuidade há algumas dias. O município já entrou em contato com o Governo Federal e aguarda orientações do Ministério”.\n\nFonte:http://eshoje.com.br/moradores-da-serra-nao-conseguem-marcar-consultas-em-policlinica-ha-20-dias/"
    },
    {
      "metadata": {},
      "cell_type": "markdown",
      "source": "## Fase 3 Implementação"
    },
    {
      "metadata": {
        "trusted": true
      },
      "cell_type": "markdown",
      "source": "Temos a importação da biblioteca do csv e temos a primeira função que se trata do cabeçalho da central de marcação de consulta e onde indica os proximos campos à serem preenchidos para concluir o cadastro e marcar sua consulta. "
    },
    {
      "metadata": {
        "trusted": true
      },
      "cell_type": "code",
      "source": "import csv\ndef cabeçalho():\n    def decorador():\n        print('=' * 10, 'Central de marcaçao de consultas Serra ES', '=' * 10)\n\n    decorador()\n    print('Preencha os campos abaixo para fazermos seu cadastro:",
      "execution_count": null,
      "outputs": []
    },
    {
      "metadata": {},
      "cell_type": "markdown",
      "source": "A segunda função valida o nome do paciente, onde o limite mínimo é de 3 e o máximo é 35 caracteres."
    },
    {
      "metadata": {
        "trusted": true
      },
      "cell_type": "code",
      "source": "def valida_nome(nome):\n    if len(nome) in range(3, 35):\n        return True\n    else:\n        return False",
      "execution_count": null,
      "outputs": []
    },
    {
      "metadata": {},
      "cell_type": "markdown",
      "source": "A terceira função valida a idade do paciente, onde tem um limite máximo de 120 anos."
    },
    {
      "metadata": {
        "trusted": true
      },
      "cell_type": "code",
      "source": "def valida_idade(idade):\n    if idade > 0 or  idade < 120:\n        return True\n    else:\n        return False",
      "execution_count": null,
      "outputs": []
    },
    {
      "metadata": {},
      "cell_type": "markdown",
      "source": "A quarta função valida o sexo do paciente, sendo M para masculino e F para feminino."
    },
    {
      "metadata": {
        "trusted": true
      },
      "cell_type": "code",
      "source": "def valida_sexo(sexo):\n    if sexo in 'MF':\n        return True\n    else:\n        return False",
      "execution_count": null,
      "outputs": []
    },
    {
      "metadata": {},
      "cell_type": "markdown",
      "source": "A quinta função utiliza uma estrutura de repetição que classifica o paciente de acordo com seu grau de risco (1-Emergência e 2-Urgente). Se risco escolhido pelo paciente for igual a 1-Emergência, será direcionado automáticamente para o hospital Jayme Santos Neves onde poderá escolher duas especialidades (Cardiologista e Oftamologista). Se o risco escolhido for igual a 2-Urgente, será direcionado para a Unidade de Pronto Atendimento (UPA) onde terá apenas uma especialidade (Clínico Geral)."
    },
    {
      "metadata": {
        "trusted": true
      },
      "cell_type": "code",
      "source": "def classificacao():\n    while True:\n        risco = int(input(f' Marque a opção:{r}'))\n        if risco == 1:\n            dados['Local'] = 'hospital Jayme - Emergencia'\n            Med = int(input(f'Especialidades:{Local1}'))\n            if Med == 1:\n                dados['Medico'] = 'Cardiologista'\n                cardio.append(dados['Medico'])\n                print('Escolha data da consulta? Obs: Atendimento todos os dias de 8:00 as 19:00')\n                dados['data'] = str(input(\"Data e a hora da consulta: dd/mm/aaaa; hh:min\"))\n                while not (data_hora_cardio(dados['data'])):\n                    print(\"Data ou hora ja ocupada: Tente novamente\")\n                    dados['data'] = str(input(\"Data e a hora da consulta: dd/mm/aaaa; hh:min\"))\n            elif Med == 2:\n                dados['Medico'] = 'Oftamologista'\n                ofta.append(dados['Medico'])\n                print('Escolha data da consulta? Obs: Atendimento todos os dias de 8:00 as 19:00')\n                dados['data'] = str(input(\"Data e a hora da consulta: dd/mm/aaaa; hh:min\"))\n                while not (data_hora_ofta(dados['data'])):\n                    print(\"Data ou hora ja ocupada: Tente novamente\")\n                    dados['data'] = str(input(\"Data e a hora da consulta: dd/mm/aaaa; hh:min\"))\n            else:\n                print('Opção invalida: Digite novamente')\n            break\n        elif risco == 2:\n            dados['Local'] = 'Upa - Urgente'\n            Med = int(input(f'Especialidades:{Local2}'))\n            if Med == 1:\n                dados['Medico'] = 'Clinico Geral'\n                clini2.append(dados['Medico'])\n                print('Escolha data da consulta? Obs: Atendimento todos os dias de 8:00 as 19:00')\n                dados['data'] = str(input(\"Data e a hora da consulta: dd/mm/aaaa; hh:min\"))\n                while not (data_hora_clini2(dados['data'])):\n                    print(\"Data ou hora ja ocupada: Tente novamente\")\n                    dados['data'] = str(input(\"Data e a hora da consulta: dd/mm/aaaa; hh:min\"))\n            else:\n                print('Opção invalida: Digite novamente')\n            break\n        else:\n            print('Opção invalidade: Digite valor valido.')",
      "execution_count": 1,
      "outputs": []
    },
    {
      "metadata": {},
      "cell_type": "markdown",
      "source": "As funções a seguir verifica se a data e horário são válidos, verifica a disponibilidade de horário na agenda dos médicos de cardiologista, oftamologista e clínico geral, respectivamente, e se a data e horário digitado estiverem disponíveis, ela marca a consulta. "
    },
    {
      "metadata": {
        "trusted": true
      },
      "cell_type": "code",
      "source": "def data_hora_cardio(data):\n    dia = int(dados['data'][0:2])\n    mes = int(dados['data'][3:5])\n    ano = int(dados['data'][6:10])\n    horas = int(dados['data'][11:13])\n    validade = 'true'\n    if mes < 1 or mes > 12:\n        validade = \"false\"\n    if ano != 2019:\n        validade = 'false'\n    if dia < 0 or dia > 31:\n        validade = 'false'\n    if horas < 8 or horas > 20:\n        validade = 'false'\n    if validade == \"true\" and data not in cardio:\n        cardio.append(dados['data'])\n        return True\n    elif validade == \"false\" or data in cardio:\n        return False\n    \n    def data_hora_ofta(data):\n    dia = int(dados['data'][0:2])\n    mes = int(dados['data'][3:5])\n    ano = int(dados['data'][6:10])\n    horas = int(dados['data'][11:13])\n    validade = 'true'\n    if mes < 1 or mes > 12:\n        validade = \"false\"\n    if ano != 2019:\n        validade = 'false'\n    if dia > 31 or dia < 0:\n        validade = \"false\"\n    if horas < 8 or horas > 20:\n        validade = 'false'\n    if validade == \"true\" and data not in ofta:\n        ofta.append(dados['data'])\n        return True\n    elif validade == \"false\" or data in ofta:\n        return False\n\ndef data_hora_clini2(data):\n    dia = int(dados['data'][0:2])\n    mes = int(dados['data'][3:5])\n    ano = int(dados['data'][6:10])\n    horas = int(dados['data'][11:13])\n    validade = 'true'\n    if mes < 1 or mes > 12:\n        validade = \"false\"\n    if dia > 31 or dia < 0:\n        validade = \"false\"\n    if ano != 2019:\n        validade = 'false'\n    if horas < 8 or horas > 20:\n        validade = 'false'\n    if validade == \"true\" and data not in clini2:\n        clini2.append(dados['data'])\n        return True\n    elif validade == \"false\" or data in clini2:\n        return False\n",
      "execution_count": null,
      "outputs": []
    },
    {
      "metadata": {},
      "cell_type": "markdown",
      "source": "A nona função coleta as informações dos pacientes através do input. "
    },
    {
      "metadata": {
        "trusted": true
      },
      "cell_type": "code",
      "source": "def dados_pacientes():\n    dados['nome'] = str(input('Nome completo do paciente:'))\n    while not (valida_nome(dados['nome'])):\n        print('Nome invalido, digite novamente.')\n        dados['nome'] = str(input('Nome completo do paciente:'))\n\n    dados['idade'] = int(input('idade:'))\n    while not (valida_idade(dados['idade'])):\n        print('Idade invalida, digite novamente')\n        dados['idade'] = int(input('Idade:'))\n\n    dados['sexo'] = input('Sexo:').upper()[0]\n    while not (valida_sexo(dados['sexo'])):\n        print('ERRO: Digite apenas M ou F.')\n        dados['sexo'] = str(input('Sexo:')).upper()[0]",
      "execution_count": null,
      "outputs": []
    },
    {
      "metadata": {},
      "cell_type": "markdown",
      "source": "Na décima função é onde usamos o print para mostrar ao paciente que a sua consulta foi marcada com sucesso, mostrando todas as informações da consulta."
    },
    {
      "metadata": {
        "trusted": true
      },
      "cell_type": "code",
      "source": "def comprovante():\n    print('Consulta marcada com sucesso:')\n    print('Nome do paciente:{}'.format(dados['nome']))\n    print('Data da consulta:{}'.format(dados['data']))\n    print('Local:{}'.format(dados['Local']))\n    print('Especialidade:{}'.format(dados['Medico']))",
      "execution_count": null,
      "outputs": []
    },
    {
      "metadata": {
        "trusted": true
      },
      "cell_type": "code",
      "source": "A décima primeira função salva os dados do paciente e da consulta através do csv.",
      "execution_count": null,
      "outputs": []
    },
    {
      "metadata": {
        "trusted": true
      },
      "cell_type": "code",
      "source": "def salvar_csv():\n    for x, y in dados.items():\n        lista.append(y)\n    saida = open('teste.csv', 'a')\n    salvar = csv.writer(saida)\n    salvar.writerow(lista.copy())",
      "execution_count": null,
      "outputs": []
    },
    {
      "metadata": {},
      "cell_type": "markdown",
      "source": "Na função cadastro usamos uma estrutura de repetição que apaga os dados do paciente anterior, e refaz o processo usando as funções anteriores a cada paciente que desejar fazer o cadastro e marcar uma consulta."
    },
    {
      "metadata": {
        "trusted": true
      },
      "cell_type": "code",
      "source": "def cadastro():\n    while True:\n        lista.clear()\n        cabeçalho()\n        dados_pacientes()\n        classificacao()\n        salvar_csv()\n        print('=-' * 37)\n        comprovante()\n        while True:\n            resp = input('Deseja marcar outra consulta? [S/N]').upper()[0]\n            if resp in 'SN':\n                break\n            print('ERRO: Responda apenas S ou N')\n\n        if resp == 'N':\n            break",
      "execution_count": null,
      "outputs": []
    },
    {
      "metadata": {},
      "cell_type": "markdown",
      "source": "Essas três listas armazenam data e horário de cada consulta marcada em sua especialidade."
    },
    {
      "metadata": {
        "trusted": true
      },
      "cell_type": "code",
      "source": "cardio = []\nofta = []\nclini2 = []",
      "execution_count": null,
      "outputs": []
    },
    {
      "metadata": {},
      "cell_type": "markdown",
      "source": "O dicionário 'dados' armazena os dados de cada paciente no ato do cadastro. Já a 'lista' recebe as informações do dicionário 'dados' para salvar no csv, e é renovada a cada vez que a sessão é encerrada."
    },
    {
      "metadata": {
        "trusted": true
      },
      "cell_type": "code",
      "source": "lista = []\ndados = {}",
      "execution_count": null,
      "outputs": []
    },
    {
      "metadata": {},
      "cell_type": "markdown",
      "source": "Esses dicionários tem a função de exibir as opções para o paciente escolher, de acordo com seu risco."
    },
    {
      "metadata": {
        "trusted": true
      },
      "cell_type": "code",
      "source": "Local2 = {\"Upa\": '1-Clinico geral'}\nLocal1 = {\"Jayme\": '1-Cardiologista, 2-Oftamologista'}\nr = ('\\n1- Emergência \\n2- Urgente \\n:')",
      "execution_count": null,
      "outputs": []
    },
    {
      "metadata": {},
      "cell_type": "markdown",
      "source": "E por ultimo é onde chamamos a função para iniciar o programa."
    },
    {
      "metadata": {
        "trusted": true
      },
      "cell_type": "code",
      "source": "cadastro()",
      "execution_count": null,
      "outputs": []
    }
  ],
  "metadata": {
    "kernelspec": {
      "name": "python36",
      "display_name": "Python 3.6",
      "language": "python"
    },
    "language_info": {
      "mimetype": "text/x-python",
      "nbconvert_exporter": "python",
      "name": "python",
      "pygments_lexer": "ipython3",
      "version": "3.6.6",
      "file_extension": ".py",
      "codemirror_mode": {
        "version": 3,
        "name": "ipython"
      }
    }
  },
  "nbformat": 4,
  "nbformat_minor": 2
}